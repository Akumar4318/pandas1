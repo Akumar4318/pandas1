{
 "cells": [
  {
   "cell_type": "code",
   "execution_count": 4,
   "id": "ec223bed-0590-44ba-a50e-b262294d57d7",
   "metadata": {},
   "outputs": [],
   "source": [
    "import pandas as pd\n",
    "import numpy as np"
   ]
  },
  {
   "cell_type": "code",
   "execution_count": 5,
   "id": "c7022b33-ce47-4e3a-88a0-fd52fb54557b",
   "metadata": {},
   "outputs": [],
   "source": [
    "a1={\"numbers\":['4',' 8','15',' 16', '23', '42']}\n"
   ]
  },
  {
   "cell_type": "code",
   "execution_count": 8,
   "id": "21641da2-983b-4df0-9748-08a8ecec5608",
   "metadata": {},
   "outputs": [],
   "source": [
    "df=pd.Series(a1)"
   ]
  },
  {
   "cell_type": "code",
   "execution_count": 9,
   "id": "5029006b-42b6-4973-a83e-56c92f40bdb6",
   "metadata": {},
   "outputs": [
    {
     "data": {
      "text/plain": [
       "numbers    [4,  8, 15,  16, 23, 42]\n",
       "dtype: object"
      ]
     },
     "execution_count": 9,
     "metadata": {},
     "output_type": "execute_result"
    }
   ],
   "source": [
    "df"
   ]
  },
  {
   "cell_type": "code",
   "execution_count": null,
   "id": "9201d572-f2f6-4b62-bbbf-c082b7600f33",
   "metadata": {},
   "outputs": [],
   "source": []
  },
  {
   "cell_type": "code",
   "execution_count": null,
   "id": "417ec233-5560-48b3-89cc-5f8d04bfdc09",
   "metadata": {},
   "outputs": [],
   "source": []
  }
 ],
 "metadata": {
  "kernelspec": {
   "display_name": "Python 3 (ipykernel)",
   "language": "python",
   "name": "python3"
  },
  "language_info": {
   "codemirror_mode": {
    "name": "ipython",
    "version": 3
   },
   "file_extension": ".py",
   "mimetype": "text/x-python",
   "name": "python",
   "nbconvert_exporter": "python",
   "pygments_lexer": "ipython3",
   "version": "3.10.8"
  }
 },
 "nbformat": 4,
 "nbformat_minor": 5
}
